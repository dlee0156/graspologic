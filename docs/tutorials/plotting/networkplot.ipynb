{
 "cells": [
  {
   "cell_type": "markdown",
   "metadata": {},
   "source": [
    "# Networkplot: Visualizing 2D Layouts\n",
    "\n",
    "This example provides how to visualize 2D layouts using networkplot."
   ]
  },
  {
   "cell_type": "code",
   "execution_count": null,
   "metadata": {},
   "outputs": [],
   "source": [
    "import graspologic\n",
    "\n",
    "import numpy as np\n",
    "import pandas as pd\n",
    "%matplotlib inline"
   ]
  },
  {
   "cell_type": "markdown",
   "metadata": {},
   "source": [
    "## Visualizing 2D layout using networkplot\n",
    "\n",
    "### Simulate an adjacency matrix using a stochastic block model\n",
    "\n",
    "The 2-block model is defined as below:\n",
    "\n",
    "\\begin{align*}\n",
    "P = \n",
    "\\begin{bmatrix}0.25 & 0.05 \\\\\n",
    "0.05 & 0.25\n",
    "\\end{bmatrix}\n",
    "\\end{align*}"
   ]
  },
  {
   "cell_type": "code",
   "execution_count": null,
   "metadata": {},
   "outputs": [],
   "source": [
    "from graspologic.simulations import sbm\n",
    "\n",
    "n_communities = [50, 50]\n",
    "p = [[0.25, 0.05], [0.05, 0.25]]\n",
    "\n",
    "np.random.seed(1)\n",
    "A = sbm(n_communities, p)\n",
    "print(A.shape)"
   ]
  },
  {
   "cell_type": "markdown",
   "metadata": {},
   "source": [
    "### Generate a 2D embedding using ASE"
   ]
  },
  {
   "cell_type": "code",
   "execution_count": null,
   "metadata": {},
   "outputs": [],
   "source": [
    "from graspologic.embed import AdjacencySpectralEmbed\n",
    "\n",
    "ase = AdjacencySpectralEmbed(n_components=2)\n",
    "X = ase.fit_transform(A)\n",
    "\n",
    "print(X.shape)"
   ]
  },
  {
   "cell_type": "markdown",
   "metadata": {},
   "source": [
    "### Visualize 2D layout\n",
    "\n",
    "The largest connected component of the original adjacency matrix was computed for the plot. Note that node colors were determined by communities that were randomly assigned and the node sizes are determined by the number of edges connected to each node. The edge colors for the plot below are based on their source nodes."
   ]
  },
  {
   "cell_type": "code",
   "execution_count": null,
   "metadata": {
    "scrolled": true
   },
   "outputs": [],
   "source": [
    "import random\n",
    "np.random.seed(42)\n",
    "\n",
    "from graspologic.plot.plot import networkplot\n",
    "from graspologic.utils import largest_connected_component\n",
    "\n",
    "lcc_A = largest_connected_component(A)\n",
    "\n",
    "x_pos = X[:,0]\n",
    "y_pos = X[:,1]\n",
    "node_ids = np.random.randint(2, size=X.shape[0])\n",
    "degrees = np.sum(A, axis=0)\n",
    "\n",
    "plot = networkplot(adjacency=lcc_A, x=x_pos, y=y_pos, node_hue=node_ids, palette='deep', node_size=degrees, \n",
    "                   node_sizes=(20, 200), node_alpha=0.3, edge_hue='source')"
   ]
  },
  {
   "cell_type": "markdown",
   "metadata": {},
   "source": [
    "Alternatively, we can also use a pandas dataframe and use x, y, node_hue, and node_size as keys. Note that for the plot below, the edge colors are determined by their target nodes by assigning edge_hue as 'target'."
   ]
  },
  {
   "cell_type": "code",
   "execution_count": null,
   "metadata": {},
   "outputs": [],
   "source": [
    "np.random.seed(42)\n",
    "\n",
    "index = range(X.shape[0])\n",
    "node_df = pd.DataFrame(index=index)\n",
    "node_df.loc[:, 'x_pos'] = X[:,0]\n",
    "node_df.loc[:, 'y_pos'] = X[:,1]\n",
    "node_df.loc[:, 'id'] = np.random.randint(2, size=X.shape[0])\n",
    "node_df.loc[:, 'degree'] = np.sum(A, axis=0)\n",
    "\n",
    "plot = networkplot(adjacency=lcc_A, node_data=node_df, x='x_pos', y='y_pos', node_hue='id', palette='deep', \n",
    "                   node_size='degree', node_sizes=(20, 200), node_alpha=0.3, edge_hue='target')"
   ]
  }
 ],
 "metadata": {
  "kernelspec": {
   "display_name": "Python 3",
   "language": "python",
   "name": "python3"
  },
  "language_info": {
   "codemirror_mode": {
    "name": "ipython",
    "version": 3
   },
   "file_extension": ".py",
   "mimetype": "text/x-python",
   "name": "python",
   "nbconvert_exporter": "python",
   "pygments_lexer": "ipython3",
   "version": "3.7.6"
  }
 },
 "nbformat": 4,
 "nbformat_minor": 4
}
